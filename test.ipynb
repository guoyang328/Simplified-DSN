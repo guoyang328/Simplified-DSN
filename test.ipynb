{
 "cells": [
  {
   "cell_type": "code",
   "execution_count": 53,
   "metadata": {
    "tags": []
   },
   "outputs": [
    {
     "output_type": "stream",
     "name": "stdout",
     "text": "LOADING MNIST\nExtracting data/train-images-idx3-ubyte.gz\nExtracting data/train-labels-idx1-ubyte.gz\nExtracting data/t10k-images-idx3-ubyte.gz\nExtracting data/t10k-labels-idx1-ubyte.gz\nLOADING MNIST-M\nGENERATING DOMAIN DATA\n"
    }
   ],
   "source": [
    "\n",
    "import tensorflow as tf\n",
    "import tensorflow.contrib.slim as slim\n",
    "from tensorflow.python.framework import ops\n",
    "from tensorflow.examples.tutorials.mnist import input_data\n",
    "import numpy as np\n",
    "import hickle as hkl\n",
    "from sklearn.manifold import TSNE\n",
    "import matplotlib.pyplot as plt\n",
    "import urllib\n",
    "import os\n",
    "import tarfile\n",
    "import skimage\n",
    "from tensorflow.keras import layers\n",
    "import skimage.io\n",
    "import skimage.transform\n",
    "from flip_gradient import flip_gradient\n",
    "from utils import *\n",
    "from models import *\n",
    "\n",
    "\n",
    "# In[ ]:\n",
    "\n",
    "\n",
    "\n",
    "#Loading Mnist Data\n",
    "print (\"LOADING MNIST\")\n",
    "mnist        = input_data.read_data_sets('data', one_hot=True)\n",
    "mnist_train  = (mnist.train.images > 0).reshape(55000, 28, 28, 1).astype(np.uint8) * 255\n",
    "mnist_train  = np.concatenate([mnist_train, mnist_train, mnist_train], 3)\n",
    "mnist_test   = (mnist.test.images > 0).reshape(10000, 28, 28, 1).astype(np.uint8) * 255\n",
    "mnist_test   = np.concatenate([mnist_test, mnist_test, mnist_test], 3)\n",
    "mnist_train_label = mnist.train.labels\n",
    "mnist_test_label = mnist.test.labels\n",
    "\n",
    "#Loading MnistM Data\n",
    "print (\"LOADING MNIST-M\")\n",
    "mnistm_name  = 'data//mnistm_data.hkl'\n",
    "mnistm       = hkl.load(open(mnistm_name))\n",
    "mnistm_train = mnistm['train']\n",
    "mnistm_test  = mnistm['test']\n",
    "#mnistm_valid = mnistm['valid']\n",
    "mnistm_train_label = mnist_train_label\n",
    "mnistm_test_label = mnist_test_label\n",
    "print (\"GENERATING DOMAIN DATA\")\n"
   ]
  },
  {
   "cell_type": "code",
   "execution_count": 54,
   "metadata": {
    "tags": []
   },
   "outputs": [],
   "source": [
    "\n",
    "def shuffle_aligned_list(data):\n",
    "    \"\"\"Shuffle arrays in a list by shuffling each array identically.\"\"\"\n",
    "    num = data[0].shape[0]\n",
    "    p = np.random.permutation(num)\n",
    "    return [d[p] for d in data]\n",
    "\n",
    "\n",
    "def batch_generator(data, batch_size, shuffle=True):\n",
    "    \"\"\"Generate batches of data.\n",
    "    \n",
    "    Given a list of array-like objects, generate batches of a given\n",
    "    size by yielding a list of array-like objects corresponding to the\n",
    "    same slice of each input.\n",
    "    \"\"\"\n",
    "    if shuffle:\n",
    "        data = shuffle_aligned_list(data)\n",
    "\n",
    "    batch_count = 0\n",
    "    while True:\n",
    "        if batch_count * batch_size + batch_size >= len(data[0]):\n",
    "            batch_count = 0\n",
    "\n",
    "            if shuffle:\n",
    "                data = shuffle_aligned_list(data)\n",
    "\n",
    "        start = batch_count * batch_size\n",
    "        end = start + batch_size\n",
    "        batch_count += 1\n",
    "        yield [d[start:end] for d in data]\n"
   ]
  },
  {
   "cell_type": "code",
   "execution_count": 55,
   "metadata": {},
   "outputs": [
    {
     "output_type": "execute_result",
     "data": {
      "text/plain": "<generator object batch_generator at 0x7f8d416360f8>"
     },
     "metadata": {},
     "execution_count": 55
    }
   ],
   "source": [
    "batch_generator([mnist_train, mnist.train.labels], 20)"
   ]
  },
  {
   "cell_type": "code",
   "execution_count": 56,
   "metadata": {},
   "outputs": [],
   "source": [
    "def weighted_batch_generator(data, batch_size, weight, shuffle = True):\n",
    "    partitioned_data = []\n",
    "    for i in np.arange(10): \n",
    "        partitioned_data.append(data[0][data[1][:,i] ==1])\n"
   ]
  },
  {
   "cell_type": "code",
   "execution_count": null,
   "metadata": {},
   "outputs": [],
   "source": []
  }
 ],
 "metadata": {
  "language_info": {
   "codemirror_mode": {
    "name": "ipython",
    "version": 3
   },
   "file_extension": ".py",
   "mimetype": "text/x-python",
   "name": "python",
   "nbconvert_exporter": "python",
   "pygments_lexer": "ipython3",
   "version": "3.6.9-final"
  },
  "orig_nbformat": 2,
  "kernelspec": {
   "name": "env",
   "display_name": "env"
  }
 },
 "nbformat": 4,
 "nbformat_minor": 2
}